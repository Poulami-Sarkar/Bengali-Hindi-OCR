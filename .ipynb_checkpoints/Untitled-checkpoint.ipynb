{
 "cells": [
  {
   "cell_type": "code",
   "execution_count": 3,
   "metadata": {},
   "outputs": [],
   "source": [
    "import pytesseract\n",
    "import cv2\n",
    "import sys"
   ]
  },
  {
   "cell_type": "code",
   "execution_count": null,
   "metadata": {},
   "outputs": [],
   "source": [
    "if __name__ == '__main__':\n",
    " \n",
    "  if len(sys.argv) < 2:\n",
    "    print('Usage: python ocr_simple.py image.jpg')\n",
    "    sys.exit(1)\n",
    "   \n",
    "  # Read image path from command line\n",
    "  imPath = sys.argv[1]\n",
    "     \n",
    "  # Uncomment the line below to provide path to tesseract manually\n",
    "  # pytesseract.pytesseract.tesseract_cmd = '/usr/bin/tesseract'\n",
    " \n",
    "  # Define config parameters.\n",
    "  # '-l eng'  for using the English language\n",
    "  # '--oem 1' for using LSTM OCR Engine\n",
    "  config = ('-l ben --oem 1 --psm 3')\n",
    " \n",
    "  # Read image from disk\n",
    "  im = cv2.imread('img/1.png', cv2.IMREAD_COLOR)\n",
    " \n",
    "  # Run tesseract OCR on image\n",
    "  text = pytesseract.image_to_string(im, config=config)\n",
    " \n",
    "  # Print recognized text\n",
    "  print(text)"
   ]
  },
  {
   "cell_type": "code",
   "execution_count": null,
   "metadata": {},
   "outputs": [],
   "source": [
    "def captch_ex():\n",
    "    img = im\n",
    "        \n",
    "    img_final = im\n",
    "    img2gray = cv2.cvtColor(img, cv2.COLOR_BGR2GRAY)\n",
    "    ret, mask = cv2.threshold(img2gray, 180, 255, cv2.THRESH_BINARY)\n",
    "    image_final = cv2.bitwise_and(img2gray, img2gray, mask=mask)\n",
    "    ret, new_img = cv2.threshold(image_final, 180, 255, cv2.THRESH_BINARY)  # for black text , cv.THRESH_BINARY_INV\n",
    "    '''\n",
    "            line  8 to 12  : Remove noisy portion \n",
    "    '''\n",
    "    kernel = cv2.getStructuringElement(cv2.MORPH_CROSS, (3,\n",
    "                                                         3))  # to manipulate the orientation of dilution , large x means horizonatally dilating  more, large y means vertically dilating more\n",
    "    dilated = cv2.dilate(new_img, kernel, iterations=9)  # dilate , more the iteration more the dilation\n",
    "\n",
    "    # for cv2.x.x\n",
    "\n",
    "    _, contours, hierarchy = cv2.findContours(dilated, cv2.RETR_EXTERNAL, cv2.CHAIN_APPROX_NONE)  # findContours returns 3 variables for getting contours\n",
    "\n",
    "    # for cv3.x.x comment above line and uncomment line below\n",
    "\n",
    "    #image, contours, hierarchy = cv2.findContours(dilated,cv2.RETR_EXTERNAL,cv2.CHAIN_APPROX_NONE)\n",
    "\n",
    "\n",
    "    for contour in contours:\n",
    "        # get rectangle bounding contour\n",
    "        [x, y, w, h] = cv2.boundingRect(contour)\n",
    "\n",
    "        # Don't plot small false positives that aren't text\n",
    "        if w < 35 and h < 35:\n",
    "            continue\n",
    "\n",
    "        # draw rectangle around contour on original image\n",
    "        cv2.rectangle(img, (x, y), (x + w, y + h), (255, 0, 255), 2)\n",
    "\n",
    "        '''\n",
    "        #you can crop image and send to OCR  , false detected will return no text :)\n",
    "        cropped = img_final[y :y +  h , x : x + w]\n",
    "\n",
    "        s = file_name + '/crop_' + str(index) + '.jpg' \n",
    "        cv2.imwrite(s , cropped)\n",
    "        index = index + 1\n",
    "\n",
    "        '''\n",
    "    # write original image with added contours to disk\n",
    "    cv2.imshow('captcha_result', img)\n",
    "    cv2.waitKey()\n"
   ]
  },
  {
   "cell_type": "code",
   "execution_count": null,
   "metadata": {},
   "outputs": [],
   "source": [
    "captch_ex()"
   ]
  },
  {
   "cell_type": "code",
   "execution_count": null,
   "metadata": {},
   "outputs": [],
   "source": []
  }
 ],
 "metadata": {
  "kernelspec": {
   "display_name": "Python 3",
   "language": "python",
   "name": "python3"
  },
  "language_info": {
   "codemirror_mode": {
    "name": "ipython",
    "version": 3
   },
   "file_extension": ".py",
   "mimetype": "text/x-python",
   "name": "python",
   "nbconvert_exporter": "python",
   "pygments_lexer": "ipython3",
   "version": "3.6.8"
  }
 },
 "nbformat": 4,
 "nbformat_minor": 2
}
